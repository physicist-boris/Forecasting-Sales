{
 "cells": [
  {
   "cell_type": "code",
   "execution_count": null,
   "metadata": {},
   "outputs": [],
   "source": [
    "!pip install pandas \n",
    "!pip install matplotlib\n",
    "!pip install spicy\n",
    "!pip install statsmodels\n",
    "!pip install seaborn\n",
    "!pip install pingouin\n",
    "!pip install pmdarima\n",
    "!pip install numpy==1.26.4\n"
   ]
  },
  {
   "cell_type": "code",
   "execution_count": null,
   "metadata": {},
   "outputs": [],
   "source": [
    "from pathlib import Path\n",
    "\n",
    "current_path = Path.cwd()\n",
    "\n",
    "# Get the root directory\n",
    "root_directory = current_path.parent\n",
    "print(root_directory)"
   ]
  },
  {
   "cell_type": "code",
   "execution_count": null,
   "metadata": {},
   "outputs": [],
   "source": [
    "import pandas as pd\n",
    "\n",
    "df = pd.read_csv(root_directory / \"data\" / \"01_extracted_data\" /\"stores_sales_forecasting.csv\", encoding=\"ISO-8859-1\")\n",
    "df = df.drop([\"Row ID\", \"Order ID\", \"Customer ID\", \"Product ID\"], axis=1)\n",
    "print(df.shape)\n",
    "df.head()"
   ]
  },
  {
   "cell_type": "code",
   "execution_count": null,
   "metadata": {},
   "outputs": [],
   "source": [
    "df.describe()\n",
    "#Sales right skewed valeurs extreme vers la droite)\n",
    "#supp country(unique), category(unique), ship mode(no impact on sales), segment(no impact)\n",
    "# product name (en soi na pas fino paritculiere dans son nom qui le classerait plus haut ou le differencierait dans la vente)\n",
    "#discount, Profit\n",
    "\n",
    "# city, state, ( ne rejette pas forcement hypothese null) mais affecte quand meme la moyenne des ventes\n",
    "# subcategory et quantity(rejette hypothese null t-test), \n",
    "# order date, delais tres impacte le sales"
   ]
  },
  {
   "cell_type": "code",
   "execution_count": null,
   "metadata": {},
   "outputs": [],
   "source": [
    "df.isna().sum()\n",
    "df.isnull().values.any()"
   ]
  },
  {
   "cell_type": "code",
   "execution_count": null,
   "metadata": {},
   "outputs": [],
   "source": [
    "import seaborn as sns\n",
    "\n",
    "sns.pairplot(df, hue=\"Sub-Category\")"
   ]
  },
  {
   "cell_type": "code",
   "execution_count": null,
   "metadata": {},
   "outputs": [],
   "source": [
    "import matplotlib.pyplot as plt \n",
    "sns.histplot(data=df, x=\"Sales\", hue=\"Sub-Category\", kde=True)\n",
    "plt.xlim(0, 2000) "
   ]
  },
  {
   "cell_type": "code",
   "execution_count": null,
   "metadata": {},
   "outputs": [],
   "source": [
    "import matplotlib.pyplot as plt \n",
    "sns.histplot(data=df, x=\"Sales\", hue=\"Ship Mode\", kde=True)\n",
    "plt.xlim(0, 2000)"
   ]
  },
  {
   "cell_type": "code",
   "execution_count": null,
   "metadata": {},
   "outputs": [],
   "source": [
    "import matplotlib.pyplot as plt \n",
    "sns.histplot(data=df, x=\"Sales\", hue=\"Segment\", kde=True)\n",
    "plt.xlim(0, 2000)"
   ]
  },
  {
   "cell_type": "code",
   "execution_count": null,
   "metadata": {},
   "outputs": [],
   "source": [
    "import matplotlib.pyplot as plt\n",
    "\n",
    "# Calcul de la matrice de corrélation\n",
    "corr_matrix = df.corr(numeric_only=True)\n",
    "\n",
    "# Affichage avec seaborn\n",
    "plt.figure(figsize=(10, 8))\n",
    "sns.heatmap(corr_matrix, cmap=\"coolwarm\", fmt=\".2f\", linewidths=0.5)\n",
    "plt.title(\"Matrice de corrélation\")\n",
    "plt.show()"
   ]
  },
  {
   "cell_type": "code",
   "execution_count": null,
   "metadata": {},
   "outputs": [],
   "source": [
    "from scipy.stats import pearsonr\n",
    "\n",
    "corr, pval = pearsonr(df[\"Sales\"], df[\"Quantity\"])\n",
    "print(f\"Corrélation : {corr:.2f}, p-value : {pval}\")"
   ]
  },
  {
   "cell_type": "code",
   "execution_count": null,
   "metadata": {},
   "outputs": [],
   "source": [
    "from scipy.stats import spearmanr\n",
    "\n",
    "corr_spearman, pval_spearman = spearmanr(df[\"Sales\"], df[\"Quantity\"])\n",
    "print(f\"Spearman correlation: {corr_spearman:.2f}, p-value: {pval_spearman:.3e}\")"
   ]
  },
  {
   "cell_type": "markdown",
   "metadata": {},
   "source": [
    "Le test Pearson dit qu’il y a un lien linéaire modéré.\n",
    "\n",
    "Le test Spearman dit qu’il y a un lien monotone modéré, pas parfaitement linéaire.\n",
    "\n",
    "Ce lien n’est pas parfaitement linéaire, ce qui explique que le scatterplot ne montre pas une droite claire.\n",
    "\n",
    "Le lien est modéré, pas fort, donc d’autres facteurs influencent aussi les ventes."
   ]
  },
  {
   "cell_type": "markdown",
   "metadata": {},
   "source": [
    "### Impact of State"
   ]
  },
  {
   "cell_type": "code",
   "execution_count": null,
   "metadata": {},
   "outputs": [],
   "source": [
    "df[\"Product Name\"].value_counts()\n",
    "df.groupby(\"State\")[\"Sales\"].count().sort_values(ascending=False).head(20)\n",
    "\n",
    "#df.groupby(\"State\")[\"Sales\"].agg(['mean', 'count']).sort_values(\"mean\", ascending=False)\n",
    "\n"
   ]
  },
  {
   "cell_type": "markdown",
   "metadata": {},
   "source": [
    "#### Anova-test"
   ]
  },
  {
   "cell_type": "code",
   "execution_count": null,
   "metadata": {},
   "outputs": [],
   "source": [
    "from scipy.stats import levene\n",
    "\n",
    "\n",
    "groups = [group[\"Sales\"].values for name, group in df.groupby(\"State\")]\n",
    "\n",
    "# Test de Levene\n",
    "stat, p = levene(*groups)\n",
    "print(f\"Levene statistic: {stat:.2f}, p-value: {p:.4g}\")\n",
    "\n",
    "if p < 0.05:\n",
    "    print(\"Les variances sont significativement différentes (hétéroscédasticité).\")\n",
    "else:\n",
    "    print(\"Les variances sont homogènes (homoscédasticité).\")\n"
   ]
  },
  {
   "cell_type": "code",
   "execution_count": null,
   "metadata": {},
   "outputs": [],
   "source": [
    "import pingouin as pg\n",
    "\n",
    "pg.welch_anova(dv = \"Sales\", between= \"State\", data= df)"
   ]
  },
  {
   "cell_type": "markdown",
   "metadata": {},
   "source": [
    "### Effect of sub-category"
   ]
  },
  {
   "cell_type": "markdown",
   "metadata": {},
   "source": [
    "#### Anova-test"
   ]
  },
  {
   "cell_type": "code",
   "execution_count": null,
   "metadata": {},
   "outputs": [],
   "source": [
    "from scipy.stats import levene\n",
    "\n",
    "\n",
    "groups = [group[\"Sales\"].values for name, group in df.groupby(\"Sub-Category\")]\n",
    "\n",
    "# Test de Levene\n",
    "stat, p = levene(*groups)\n",
    "print(f\"Levene statistic: {stat:.2f}, p-value: {p:.4g}\")\n",
    "\n",
    "if p < 0.05:\n",
    "    print(\"Les variances sont significativement différentes (hétéroscédasticité).\")\n",
    "else:\n",
    "    print(\"Les variances sont homogènes (homoscédasticité).\")"
   ]
  },
  {
   "cell_type": "code",
   "execution_count": null,
   "metadata": {},
   "outputs": [],
   "source": [
    "import pingouin as pg\n",
    "\n",
    "pg.welch_anova(dv = \"Sales\", between= \"Sub-Category\", data= df)"
   ]
  },
  {
   "cell_type": "code",
   "execution_count": null,
   "metadata": {},
   "outputs": [],
   "source": [
    "from scipy.stats import f_oneway\n",
    "groups = [group[\"Sales\"].values for name, group in df.groupby(\"Sub-Category\")]\n",
    "\n",
    "# ANOVA\n",
    "f_stat, p_val = f_oneway(*groups)\n",
    "print(f\"F-statistic: {f_stat:.2f}, p-value: {p_val:.4g}\")"
   ]
  },
  {
   "cell_type": "markdown",
   "metadata": {},
   "source": [
    "# Time Series Analysis"
   ]
  },
  {
   "cell_type": "code",
   "execution_count": null,
   "metadata": {},
   "outputs": [],
   "source": [
    "df['Order Date'] = pd.to_datetime(df['Order Date'])\n",
    "df_ts = df[[\"Order Date\", \"Sales\"]].sort_values('Order Date')\n",
    "df_ts\n"
   ]
  },
  {
   "cell_type": "markdown",
   "metadata": {},
   "source": [
    "## Visualization"
   ]
  },
  {
   "cell_type": "markdown",
   "metadata": {},
   "source": [
    "### By day"
   ]
  },
  {
   "cell_type": "code",
   "execution_count": null,
   "metadata": {},
   "outputs": [],
   "source": [
    "import matplotlib.pyplot as plt\n",
    "df_ts = df[[\"Order Date\", \"Sales\"]].sort_values('Order Date')\n",
    "df_ts = df_ts.set_index(\"Order Date\")\n",
    "df_ts.plot(figsize= (20,10))\n",
    "plt.xlabel(\"Year\")"
   ]
  },
  {
   "cell_type": "markdown",
   "metadata": {},
   "source": [
    "## Aggregate by month"
   ]
  },
  {
   "cell_type": "code",
   "execution_count": null,
   "metadata": {},
   "outputs": [],
   "source": [
    "import matplotlib.pyplot as plt\n",
    "df_ts = df[[\"Order Date\", \"Sales\"]].sort_values('Order Date')\n",
    "df_ts_month = df_ts.groupby(pd.Grouper(key='Order Date', freq='M'))['Sales'].sum()\n",
    "print(df_ts_month)\n",
    "df_ts_month.plot(figsize= (20,10))\n",
    "plt.xlabel(\"Year\")"
   ]
  },
  {
   "cell_type": "markdown",
   "metadata": {},
   "source": [
    "### Filter by chairs and bookcases"
   ]
  },
  {
   "cell_type": "code",
   "execution_count": null,
   "metadata": {},
   "outputs": [],
   "source": [
    "import matplotlib.pyplot as plt\n",
    "df_ts = df[df[\"Sub-Category\"].isin([\"Chairs\", \"Bookcases\"])][[\"Order Date\", \"Sales\"]].sort_values('Order Date')\n",
    "df_ts_month = df_ts.groupby(pd.Grouper(key='Order Date', freq='M'))['Sales'].sum()\n",
    "print(df_ts_month)\n",
    "df_ts_month.plot(figsize= (20,10))\n",
    "plt.xlabel(\"Year\")"
   ]
  },
  {
   "cell_type": "markdown",
   "metadata": {},
   "source": [
    "### Trend check"
   ]
  },
  {
   "cell_type": "code",
   "execution_count": null,
   "metadata": {},
   "outputs": [],
   "source": [
    "df_ts_month.rolling(12).mean().plot(figsize=(20,10))\n",
    "plt.xlabel(\"Year\")\n",
    "#en moyenne chaque annee , les ventes augmentent indépendamment de Noël ou des pics ponctuels."
   ]
  },
  {
   "cell_type": "markdown",
   "metadata": {},
   "source": [
    "### Seasonality check"
   ]
  },
  {
   "cell_type": "code",
   "execution_count": null,
   "metadata": {},
   "outputs": [],
   "source": [
    "from pandas.plotting import autocorrelation_plot\n",
    "autocorrelation_plot(df_ts_month)\n",
    "plt.show()"
   ]
  },
  {
   "cell_type": "markdown",
   "metadata": {},
   "source": [
    "### PACF et ACF"
   ]
  },
  {
   "cell_type": "code",
   "execution_count": null,
   "metadata": {},
   "outputs": [],
   "source": [
    "from statsmodels.graphics.tsaplots import plot_acf, plot_pacf\n",
    "ts = df_ts_month\n",
    "\n",
    "# Tracer l'autocorrélation (ACF)\n",
    "plt.figure(figsize=(12,5))\n",
    "plot_acf(ts, lags=40)\n",
    "plt.title(\"ACF - Autocorrelation Function\")\n",
    "plt.show()\n",
    "\n",
    "# Tracer l'autocorrélation partielle (PACF)\n",
    "plt.figure(figsize=(12,5))\n",
    "plot_pacf(ts, lags=22, method='ywm')  # méthode Yule-Walker modifiée, plus stable\n",
    "plt.title(\"PACF - Partial Autocorrelation Function\")\n",
    "plt.show()"
   ]
  },
  {
   "cell_type": "markdown",
   "metadata": {},
   "source": [
    "### Arrima parameters"
   ]
  },
  {
   "cell_type": "code",
   "execution_count": null,
   "metadata": {},
   "outputs": [],
   "source": [
    "import pmdarima as pm\n",
    "\n",
    "model = pm.auto_arima(df_ts_month, seasonal=True, m = 12, trace=False)\n",
    "print(model.summary())"
   ]
  }
 ],
 "metadata": {
  "kernelspec": {
   "display_name": ".venv",
   "language": "python",
   "name": "python3"
  },
  "language_info": {
   "codemirror_mode": {
    "name": "ipython",
    "version": 3
   },
   "file_extension": ".py",
   "mimetype": "text/x-python",
   "name": "python",
   "nbconvert_exporter": "python",
   "pygments_lexer": "ipython3",
   "version": "3.11.0b4"
  }
 },
 "nbformat": 4,
 "nbformat_minor": 2
}
